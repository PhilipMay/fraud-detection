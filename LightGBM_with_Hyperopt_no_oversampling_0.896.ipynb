{
 "cells": [
  {
   "cell_type": "markdown",
   "metadata": {},
   "source": [
    "Training LightGBM on the fraud dataset.\n",
    "- SMOTE for Upsampling\n",
    "- F1 score for metric\n",
    "- using early stopping\n",
    "- Hyperopt for hyperparameter optimization"
   ]
  },
  {
   "cell_type": "code",
   "execution_count": 1,
   "metadata": {},
   "outputs": [],
   "source": [
    "import pandas as pd\n",
    "import numpy as np\n",
    "from sklearn.model_selection import train_test_split\n",
    "from imblearn.over_sampling import SMOTE, ADASYN, BorderlineSMOTE, SVMSMOTE \n",
    "from imblearn.combine import SMOTETomek, SMOTEENN\n",
    "import lightgbm as lgb\n",
    "import sklearn\n",
    "from hyperopt import fmin, tpe, hp, Trials, STATUS_OK\n",
    "from sklearn.metrics import f1_score\n"
   ]
  },
  {
   "cell_type": "code",
   "execution_count": 2,
   "metadata": {},
   "outputs": [],
   "source": [
    "x_train = pd.read_csv('./data/x_train.csv').values\n",
    "y_train = pd.read_csv('./data/y_train.csv').values[:,0]\n",
    "x_test = pd.read_csv('./data/x_test.csv').values\n",
    "y_test = pd.read_csv('./data/y_test.csv').values[:,0]\n"
   ]
  },
  {
   "cell_type": "code",
   "execution_count": 3,
   "metadata": {},
   "outputs": [
    {
     "name": "stdout",
     "output_type": "stream",
     "text": [
      "#pos labels unsampled: 394\n",
      "#neg labels unsampled:: 227451\n",
      "#pos labels resampled: 394\n",
      "#neg labels resampled:: 227451\n"
     ]
    }
   ],
   "source": [
    "x_train_resampled, y_train_resampled = x_train, y_train\n",
    "\n",
    "print('#pos labels unsampled:', sum(y_train == 1))\n",
    "print('#neg labels unsampled::', sum(y_train == 0))\n",
    "print('#pos labels resampled:', sum(y_train_resampled == 1))\n",
    "print('#neg labels resampled::', sum(y_train_resampled == 0))"
   ]
  },
  {
   "cell_type": "code",
   "execution_count": 4,
   "metadata": {},
   "outputs": [],
   "source": [
    "train_data = lgb.Dataset(x_train_resampled, label=y_train_resampled)\n",
    "test_data = lgb.Dataset(x_test, label=y_test)\n"
   ]
  },
  {
   "cell_type": "code",
   "execution_count": 5,
   "metadata": {},
   "outputs": [],
   "source": [
    "def lgb_f1_score(y_hat, data):\n",
    "    y_true = data.get_label()\n",
    "    y_hat = np.round(y_hat) # scikits f1 doesn't like probabilities\n",
    "    return 'f1', f1_score(y_true, y_hat), True\n"
   ]
  },
  {
   "cell_type": "code",
   "execution_count": 6,
   "metadata": {},
   "outputs": [],
   "source": [
    "\n",
    "def objective(params):\n",
    "    #print(params)\n",
    "    \n",
    "    evals_result = {}\n",
    "\n",
    "    num_leaves = int(params['num_leaves'])\n",
    "    min_data_in_leaf = int(params['min_data_in_leaf'])\n",
    "    max_bin = int(params['max_bin'])\n",
    "    bagging_fraction = params['bagging_fraction']\n",
    "    bagging_freq = int(params['bagging_freq'])\n",
    "    feature_fraction = params['feature_fraction']\n",
    "    lambda_l2 = params['lambda_l2'],\n",
    "    min_gain_to_split = params['min_gain_to_split']\n",
    "    scale_pos_weight = params['scale_pos_weight']\n",
    "\n",
    "    param = {'num_leaves':num_leaves, \n",
    "             'min_data_in_leaf':min_data_in_leaf, \n",
    "             'max_bin':max_bin,\n",
    "             'learning_rate':0.1,\n",
    "             'num_trees':1000, \n",
    "             'objective':'binary',\n",
    "             'bagging_fraction':bagging_fraction,\n",
    "             'bagging_freq':bagging_freq,\n",
    "             'feature_fraction':feature_fraction,\n",
    "             'verbose':-1,\n",
    "             'lambda_l2':lambda_l2,\n",
    "             'min_gain_to_split':min_gain_to_split,\n",
    "\n",
    "             #Cannot set is_unbalance and scale_pos_weight at the same time\n",
    "             #'is_unbalance' : True, #set this to true if training data are unbalanced\n",
    "             \n",
    "             #'scale_pos_weight' : scale_pos_weight,\n",
    "             #'metric' : 'binary_logloss' # map, MAP, aliases: mean_average_precision\n",
    "             'scale_pos_weight' : scale_pos_weight,\n",
    "            }\n",
    "    \n",
    "    bst = lgb.train(param, \n",
    "                    train_data, \n",
    "                    valid_sets=[test_data], \n",
    "                    early_stopping_rounds=15, \n",
    "                    verbose_eval=False,\n",
    "                    feval=lgb_f1_score, \n",
    "                    evals_result=evals_result,\n",
    "                   )\n",
    "\n",
    "    f1 = max(evals_result['valid_0']['f1'])\n",
    "    \n",
    "    return -f1\n"
   ]
  },
  {
   "cell_type": "code",
   "execution_count": 7,
   "metadata": {},
   "outputs": [
    {
     "name": "stdout",
     "output_type": "stream",
     "text": [
      "\r",
      "  0%|          | 0/800 [00:00<?, ?it/s, best loss: ?]"
     ]
    },
    {
     "name": "stderr",
     "output_type": "stream",
     "text": [
      "/home/phmay/miniconda3/envs/py36/lib/python3.6/site-packages/lightgbm/engine.py:116: UserWarning: Found `num_trees` in params. Will use it instead of argument\n",
      "  warnings.warn(\"Found `{}` in params. Will use it instead of argument\".format(alias))\n",
      "\n",
      "/home/phmay/miniconda3/envs/py36/lib/python3.6/site-packages/sklearn/metrics/classification.py:1143: UndefinedMetricWarning: F-score is ill-defined and being set to 0.0 due to no predicted samples.\n",
      "  'precision', 'predicted', average, warn_for)\n",
      "\n"
     ]
    },
    {
     "name": "stdout",
     "output_type": "stream",
     "text": [
      "100%|██████████| 800/800 [21:20<00:00,  1.60s/it, best loss: -0.8961748633879782]\n",
      "#best {'bagging_fraction': 0.6716929834546987, 'bagging_freq': 14.0, 'feature_fraction': 0.9577004284877448, 'lambda_l2': 1.7961190036503814, 'max_bin': 3060.0, 'min_data_in_leaf': 120.0, 'min_gain_to_split': 0.06565291104633288, 'num_leaves': 170.0, 'scale_pos_weight': 3.278613861991695}\n",
      "#min(trials.losses()) -0.8961748633879782\n"
     ]
    }
   ],
   "source": [
    "trials = Trials()\n",
    "\n",
    "space = {\n",
    "         'num_leaves' : hp.quniform('num_leaves', 100, 700, 10),\n",
    "         'min_data_in_leaf' : hp.quniform('min_data_in_leaf', 10, 300, 1),\n",
    "         'max_bin' : hp.quniform('max_bin', 200, 4000, 10),\n",
    "         'bagging_fraction' : hp.uniform('bagging_fraction', 0.01, 1.0), # 0.0 < bagging_fraction <= 1.0\n",
    "         'bagging_freq' : hp.quniform('bagging_freq', 0, 20, 1),\n",
    "         'feature_fraction' :  hp.uniform('feature_fraction', 0.01, 1.0), # 0.0 < feature_fraction <= 1.0\n",
    "         'lambda_l2' : hp.uniform('lambda_l2', 0.0, 80.0),\n",
    "         'min_gain_to_split' : hp.uniform('min_gain_to_split', 0.0, 1.0),\n",
    "         'scale_pos_weight' : hp.uniform('scale_pos_weight', 1.0, 10.0),\n",
    "        }\n",
    "\n",
    "best = fmin(objective,\n",
    "    space=space,\n",
    "    algo=tpe.suggest,\n",
    "    trials=trials,\n",
    "    max_evals=800)\n",
    "\n",
    "print('#best', best)\n",
    "\n",
    "print('#min(trials.losses())', min(trials.losses()))\n"
   ]
  },
  {
   "cell_type": "code",
   "execution_count": 8,
   "metadata": {},
   "outputs": [],
   "source": [
    "#no oversampling, is_unbalance=False (default)  \n",
    "# 63%|██████▎   | 507/800 [12:54<07:27,  1.53s/it, best loss: -0.8961748633879782]\n",
    "#100%|██████████| 800/800 [21:20<00:00,  1.60s/it, best loss: -0.8961748633879782]\n",
    "#best {'bagging_fraction': 0.6716929834546987, 'bagging_freq': 14.0, 'feature_fraction': 0.9577004284877448, \n",
    "#'lambda_l2': 1.7961190036503814, 'max_bin': 3060.0, 'min_data_in_leaf': 120.0, \n",
    "#'min_gain_to_split': 0.06565291104633288, 'num_leaves': 170.0, 'scale_pos_weight': 3.278613861991695}\n",
    "#min(trials.losses()) -0.8961748633879782\n",
    "\n",
    "#no oversampling, is_unbalance=True\n",
    "# 88%|████████▊ | 704/800 [47:37<06:29,  4.06s/it, best loss: -0.8118811881188118]\n",
    "#100%|██████████| 800/800 [53:48<00:00,  4.04s/it, best loss: -0.8118811881188118]\n",
    "#best {'bagging_fraction': 0.672585863484594, 'bagging_freq': 10.0, 'feature_fraction': 0.9710798696355661, \n",
    "#'lambda_l2': 29.495437260844124, 'max_bin': 410.0, 'min_data_in_leaf': 22.0, \n",
    "#'min_gain_to_split': 0.15127703222007383, 'num_leaves': 300.0}\n",
    "#min(trials.losses()) -0.8118811881188118\n",
    "    \n",
    "#no oversampling, is_unbalance=False\n",
    "# 22%|██▏       | 173/800 [02:15<08:12,  1.27it/s, best loss: -0.8839779005524863]\n",
    "# 84%|████████▍ | 673/800 [10:29<01:58,  1.07it/s, best loss: -0.888888888888889] \n",
    "#100%|██████████| 800/800 [12:41<00:00,  1.05it/s, best loss: -0.888888888888889] \n",
    "#best {'bagging_fraction': 0.5809891002103391, 'bagging_freq': 7.0, 'feature_fraction': 0.5843200851328278, \n",
    "#'lambda_l2': 5.2016757442137145, 'max_bin': 1300.0, 'min_data_in_leaf': 12.0, \n",
    "#'min_gain_to_split': 0.32646303021539036, 'num_leaves': 370.0}\n",
    "#min(trials.losses()) -0.888888888888889\n",
    "\n",
    "#With BorderlineSMOTE\n",
    "#best {'bagging_fraction': 0.9496268535571462, 'bagging_freq': 3.0, 'feature_fraction': 0.5258984347286072, \n",
    "#'lambda_l2': 4.108394768587879, 'max_bin': 1710.0, 'min_data_in_leaf': 12.0, \n",
    "#'min_gain_to_split': 0.029228723501028592, 'num_leaves': 390.0}\n",
    "#min(trials.losses()) -0.8677248677248677\n",
    "\n",
    "#With SMOTE\n",
    "#best {'bagging_fraction': 0.7589063217431224, 'bagging_freq': 3.0, 'feature_fraction': 0.9971560184326493, \n",
    "#'lambda_l2': 0.03681947685513025, 'max_bin': 1970.0, 'min_data_in_leaf': 30.0, \n",
    "#'min_gain_to_split': 0.00047339850140067086, 'num_leaves': 500.0}\n",
    "#min(trials.losses()) -0.8659793814432989"
   ]
  }
 ],
 "metadata": {
  "kernelspec": {
   "display_name": "Python 3",
   "language": "python",
   "name": "python3"
  },
  "language_info": {
   "codemirror_mode": {
    "name": "ipython",
    "version": 3
   },
   "file_extension": ".py",
   "mimetype": "text/x-python",
   "name": "python",
   "nbconvert_exporter": "python",
   "pygments_lexer": "ipython3",
   "version": "3.6.8"
  }
 },
 "nbformat": 4,
 "nbformat_minor": 2
}
