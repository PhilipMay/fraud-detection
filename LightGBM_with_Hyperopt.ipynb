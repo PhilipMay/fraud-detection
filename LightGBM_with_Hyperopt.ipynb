{
 "cells": [
  {
   "cell_type": "markdown",
   "metadata": {},
   "source": [
    "Training LightGBM on the fraud dataset.\n",
    "- SMOTE for Upsampling\n",
    "- F1 score for metric\n",
    "- using early stopping\n",
    "- Hyperopt for hyperparameter optimization"
   ]
  },
  {
   "cell_type": "code",
   "execution_count": 1,
   "metadata": {},
   "outputs": [],
   "source": [
    "import pandas as pd\n",
    "import numpy as np\n",
    "from sklearn.model_selection import train_test_split\n",
    "from imblearn.over_sampling import SMOTE, ADASYN, BorderlineSMOTE, SVMSMOTE \n",
    "from imblearn.combine import SMOTETomek, SMOTEENN\n",
    "import lightgbm as lgb\n",
    "import sklearn\n",
    "from hyperopt import fmin, tpe, hp, Trials, STATUS_OK\n",
    "from sklearn.metrics import f1_score\n"
   ]
  },
  {
   "cell_type": "code",
   "execution_count": 2,
   "metadata": {},
   "outputs": [],
   "source": [
    "x_train = pd.read_csv('./data/x_train.csv').values\n",
    "y_train = pd.read_csv('./data/y_train.csv').values[:,0]\n",
    "x_test = pd.read_csv('./data/x_test.csv').values\n",
    "y_test = pd.read_csv('./data/y_test.csv').values[:,0]\n"
   ]
  },
  {
   "cell_type": "code",
   "execution_count": 3,
   "metadata": {},
   "outputs": [
    {
     "name": "stdout",
     "output_type": "stream",
     "text": [
      "#pos labels unsampled: 394\n",
      "#neg labels unsampled:: 227451\n",
      "#pos labels resampled: 227451\n",
      "#neg labels resampled:: 227451\n"
     ]
    }
   ],
   "source": [
    "x_train_resampled, y_train_resampled = SMOTE(random_state = 42).fit_resample(x_train, y_train)\n",
    "\n",
    "print('#pos labels unsampled:', sum(y_train == 1))\n",
    "print('#neg labels unsampled::', sum(y_train == 0))\n",
    "print('#pos labels resampled:', sum(y_train_resampled == 1))\n",
    "print('#neg labels resampled::', sum(y_train_resampled == 0))"
   ]
  },
  {
   "cell_type": "code",
   "execution_count": 4,
   "metadata": {},
   "outputs": [],
   "source": [
    "train_data = lgb.Dataset(x_train_resampled, label=y_train_resampled)\n",
    "test_data = lgb.Dataset(x_test, label=y_test)\n"
   ]
  },
  {
   "cell_type": "code",
   "execution_count": 5,
   "metadata": {},
   "outputs": [],
   "source": [
    "def lgb_f1_score(y_hat, data):\n",
    "    y_true = data.get_label()\n",
    "    y_hat = np.round(y_hat) # scikits f1 doesn't like probabilities\n",
    "    return 'f1', f1_score(y_true, y_hat), True\n"
   ]
  },
  {
   "cell_type": "code",
   "execution_count": 6,
   "metadata": {},
   "outputs": [],
   "source": [
    "\n",
    "def objective(params):\n",
    "    #print(params)\n",
    "    \n",
    "    evals_result = {}\n",
    "\n",
    "    num_leaves = int(params['num_leaves'])\n",
    "    min_data_in_leaf = int(params['min_data_in_leaf'])\n",
    "    max_bin = int(params['max_bin'])\n",
    "    bagging_fraction = params['bagging_fraction']\n",
    "    bagging_freq = int(params['bagging_freq'])\n",
    "    feature_fraction = params['feature_fraction']\n",
    "    lambda_l2 = params['lambda_l2'],\n",
    "    min_gain_to_split = params['min_gain_to_split']\n",
    "\n",
    "    param = {'num_leaves':num_leaves, \n",
    "             'min_data_in_leaf':min_data_in_leaf, \n",
    "             'max_bin':max_bin,\n",
    "             'learning_rate':0.1,\n",
    "             'num_trees':1000, \n",
    "             'objective':'binary',\n",
    "             'bagging_fraction':bagging_fraction,\n",
    "             'bagging_freq':bagging_freq,\n",
    "             'feature_fraction':feature_fraction,\n",
    "             'verbose':-1,\n",
    "             'lambda_l2':lambda_l2,\n",
    "             'min_gain_to_split':min_gain_to_split,\n",
    "             #'metric' : 'binary_logloss' # map, MAP, aliases: mean_average_precision\n",
    "            }\n",
    "    \n",
    "    bst = lgb.train(param, \n",
    "                    train_data, \n",
    "                    valid_sets=[test_data], \n",
    "                    early_stopping_rounds=15, \n",
    "                    verbose_eval=False,\n",
    "                    feval=lgb_f1_score, \n",
    "                    evals_result=evals_result,\n",
    "                   )\n",
    "\n",
    "    f1 = max(evals_result['valid_0']['f1'])\n",
    "    \n",
    "    return -f1\n"
   ]
  },
  {
   "cell_type": "code",
   "execution_count": 7,
   "metadata": {},
   "outputs": [
    {
     "name": "stdout",
     "output_type": "stream",
     "text": [
      "\r",
      "  0%|          | 0/800 [00:00<?, ?it/s, best loss: ?]"
     ]
    },
    {
     "name": "stderr",
     "output_type": "stream",
     "text": [
      "/home/phmay/miniconda3/envs/py36/lib/python3.6/site-packages/lightgbm/engine.py:116: UserWarning: Found `num_trees` in params. Will use it instead of argument\n",
      "  warnings.warn(\"Found `{}` in params. Will use it instead of argument\".format(alias))\n"
     ]
    },
    {
     "name": "stdout",
     "output_type": "stream",
     "text": [
      "100%|██████████| 800/800 [1:22:28<00:00,  6.72s/it, best loss: -0.8659793814432989]\n",
      "#best {'bagging_fraction': 0.7589063217431224, 'bagging_freq': 3.0, 'feature_fraction': 0.9971560184326493, 'lambda_l2': 0.03681947685513025, 'max_bin': 1970.0, 'min_data_in_leaf': 30.0, 'min_gain_to_split': 0.00047339850140067086, 'num_leaves': 500.0}\n",
      "#min(trials.losses()) -0.8659793814432989\n"
     ]
    }
   ],
   "source": [
    "trials = Trials()\n",
    "\n",
    "space = {\n",
    "         'num_leaves' : hp.quniform('num_leaves', 100, 600, 10),\n",
    "         'min_data_in_leaf' : hp.quniform('min_data_in_leaf', 10, 30, 1),\n",
    "         'max_bin' : hp.quniform('max_bin', 200, 2000, 10),\n",
    "         'bagging_fraction' : hp.uniform('bagging_fraction', 0.01, 1.0),\n",
    "         'bagging_freq' : hp.quniform('bagging_freq', 0, 10, 1),\n",
    "         'feature_fraction' :  hp.uniform('feature_fraction', 0.5, 1.0),\n",
    "         'lambda_l2' : hp.uniform('lambda_l2', 0.0, 80.0),\n",
    "         'min_gain_to_split' : hp.uniform('min_gain_to_split', 0.0, 1.0),\n",
    "        }\n",
    "\n",
    "best = fmin(objective,\n",
    "    space=space,\n",
    "    algo=tpe.suggest,\n",
    "    trials=trials,\n",
    "    max_evals=800)\n",
    "\n",
    "print('#best', best)\n",
    "\n",
    "print('#min(trials.losses())', min(trials.losses()))\n"
   ]
  },
  {
   "cell_type": "code",
   "execution_count": null,
   "metadata": {},
   "outputs": [],
   "source": [
    "#16%|█▌        | 125/800 [11:27<1:14:11,  6.59s/it, best loss: -0.8469387755102041]\n",
    "#19%|█▉        | 153/800 [14:15<1:11:37,  6.64s/it, best loss: -0.8514851485148514]\n",
    "#20%|██        | 160/800 [15:07<1:18:03,  7.32s/it, best loss: -0.8571428571428571]\n",
    "#40%|████      | 321/800 [31:41<52:51,  6.62s/it, best loss: -0.8615384615384615]  \n",
    "#60%|█████▉    | 479/800 [47:53<34:38,  6.48s/it, best loss: -0.864321608040201]  \n",
    "#90%|█████████ | 724/800 [1:13:52<09:38,  7.61s/it, best loss: -0.8659793814432989]\n",
    "#100%|██████████| 800/800 [1:22:28<00:00,  6.72s/it, best loss: -0.8659793814432989]\n",
    "#best {'bagging_fraction': 0.7589063217431224, 'bagging_freq': 3.0, 'feature_fraction': 0.9971560184326493, 'lambda_l2': 0.03681947685513025, 'max_bin': 1970.0, 'min_data_in_leaf': 30.0, 'min_gain_to_split': 0.00047339850140067086, 'num_leaves': 500.0}\n",
    "#min(trials.losses()) -0.8659793814432989"
   ]
  }
 ],
 "metadata": {
  "kernelspec": {
   "display_name": "Python 3",
   "language": "python",
   "name": "python3"
  },
  "language_info": {
   "codemirror_mode": {
    "name": "ipython",
    "version": 3
   },
   "file_extension": ".py",
   "mimetype": "text/x-python",
   "name": "python",
   "nbconvert_exporter": "python",
   "pygments_lexer": "ipython3",
   "version": "3.6.8"
  }
 },
 "nbformat": 4,
 "nbformat_minor": 2
}
